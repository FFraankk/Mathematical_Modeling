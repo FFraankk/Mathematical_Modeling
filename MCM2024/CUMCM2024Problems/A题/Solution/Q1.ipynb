{
 "cells": [
  {
   "cell_type": "code",
   "execution_count": 126,
   "metadata": {},
   "outputs": [],
   "source": [
    "import numpy as np\n",
    "from sympy import symbols, integrate, sqrt\n",
    "from scipy.optimize import root\n"
   ]
  },
  {
   "cell_type": "markdown",
   "metadata": {},
   "source": [
    "从里往外的螺线轨迹长度"
   ]
  },
  {
   "cell_type": "code",
   "execution_count": 127,
   "metadata": {},
   "outputs": [],
   "source": [
    "\n",
    "b = 55/(2*np.pi)\n",
    "theta = symbols('theta')\n",
    "\n",
    "# 定义被积函数\n",
    "f = sqrt(b**2 * theta**2 + b**2)\n",
    "\n",
    "# 计算积分\n",
    "Total_Length = integrate(f, (theta, 0, 32*np.pi))\n",
    "\n",
    "\n"
   ]
  },
  {
   "cell_type": "markdown",
   "metadata": {},
   "source": [
    "总的16圈螺线长度"
   ]
  },
  {
   "cell_type": "code",
   "execution_count": null,
   "metadata": {},
   "outputs": [],
   "source": [
    "L1 = 341-27.5*2\n",
    "L2 = 220-27.5*2\n",
    "V0 = 100\n",
    "\n",
    "def equation(x, V0, t):\n",
    "    return 0.5 * x * np.sqrt(1 + x**2) + 0.5 * np.log(np.abs(x + np.sqrt(1 + x**2))) - (44259 - V0 * t) / b\n",
    "\n",
    "# 给定的V0值\n",
    "\n",
    "\n",
    "# 初始化解的列表\n",
    "solutions = []\n",
    "\n",
    "# 对每个t值求解方程\n",
    "for t_value in range(301):\n",
    "    result_head_theta = root(equation, 32*np.pi, args=(V0, t_value)) \n",
    "    if result_head_theta.success:\n",
    "        solutions.append(result_head_theta.x[0])\n",
    "    else:\n",
    "        solutions.append(None)  # 如果没有找到解，则存储None\n",
    "    \n",
    "\n",
    "\n",
    "theta_rad = 32 * np.pi - np.array(solutions)\n",
    "# theta_rad.tolist()  # 将结果转换为列表以便查看"
   ]
  },
  {
   "cell_type": "markdown",
   "metadata": {},
   "source": [
    "求解0-300秒，每秒的头的theta位置"
   ]
  },
  {
   "cell_type": "code",
   "execution_count": 131,
   "metadata": {},
   "outputs": [
    {
     "ename": "TypeError",
     "evalue": "eq_head() takes 1 positional argument but 3 were given",
     "output_type": "error",
     "traceback": [
      "\u001b[1;31m---------------------------------------------------------------------------\u001b[0m",
      "\u001b[1;31mTypeError\u001b[0m                                 Traceback (most recent call last)",
      "Cell \u001b[1;32mIn[131], line 12\u001b[0m\n\u001b[0;32m      8\u001b[0m     \u001b[38;5;28;01mreturn\u001b[39;00m np\u001b[38;5;241m.\u001b[39msqrt(r_length(theta_rad)\u001b[38;5;241m*\u001b[39m\u001b[38;5;241m*\u001b[39m\u001b[38;5;241m2\u001b[39m \u001b[38;5;241m+\u001b[39m r_length(x)\u001b[38;5;241m*\u001b[39m\u001b[38;5;241m*\u001b[39m\u001b[38;5;241m2\u001b[39m \u001b[38;5;241m-\u001b[39m \u001b[38;5;241m2\u001b[39m \u001b[38;5;241m*\u001b[39m r_length(theta_rad) \u001b[38;5;241m*\u001b[39m r_length(x) \u001b[38;5;241m*\u001b[39m np\u001b[38;5;241m.\u001b[39mcos(theta_rad \u001b[38;5;241m-\u001b[39m x)) \u001b[38;5;241m-\u001b[39m L2\n\u001b[0;32m     10\u001b[0m solutions_head \u001b[38;5;241m=\u001b[39m []\n\u001b[1;32m---> 12\u001b[0m result_head \u001b[38;5;241m=\u001b[39m \u001b[43mroot\u001b[49m\u001b[43m(\u001b[49m\u001b[43meq_head\u001b[49m\u001b[43m,\u001b[49m\u001b[43m \u001b[49m\u001b[38;5;241;43m0\u001b[39;49m\u001b[43m,\u001b[49m\u001b[43m \u001b[49m\u001b[43margs\u001b[49m\u001b[38;5;241;43m=\u001b[39;49m\u001b[43m(\u001b[49m\u001b[43mtheta_rad\u001b[49m\u001b[43m[\u001b[49m\u001b[38;5;241;43m0\u001b[39;49m\u001b[43m]\u001b[49m\u001b[43m,\u001b[49m\u001b[43m \u001b[49m\u001b[43mL1\u001b[49m\u001b[43m)\u001b[49m\u001b[43m)\u001b[49m \n",
      "File \u001b[1;32md:\\Python3.12.4\\Lib\\site-packages\\scipy\\optimize\\_root.py:246\u001b[0m, in \u001b[0;36mroot\u001b[1;34m(fun, x0, args, method, jac, tol, callback, options)\u001b[0m\n\u001b[0;32m    243\u001b[0m         options\u001b[38;5;241m.\u001b[39msetdefault(\u001b[38;5;124m'\u001b[39m\u001b[38;5;124mfatol\u001b[39m\u001b[38;5;124m'\u001b[39m, np\u001b[38;5;241m.\u001b[39minf)\n\u001b[0;32m    245\u001b[0m \u001b[38;5;28;01mif\u001b[39;00m meth \u001b[38;5;241m==\u001b[39m \u001b[38;5;124m'\u001b[39m\u001b[38;5;124mhybr\u001b[39m\u001b[38;5;124m'\u001b[39m:\n\u001b[1;32m--> 246\u001b[0m     sol \u001b[38;5;241m=\u001b[39m \u001b[43m_root_hybr\u001b[49m\u001b[43m(\u001b[49m\u001b[43m_wrapped_fun\u001b[49m\u001b[43m,\u001b[49m\u001b[43m \u001b[49m\u001b[43mx0\u001b[49m\u001b[43m,\u001b[49m\u001b[43m \u001b[49m\u001b[43margs\u001b[49m\u001b[38;5;241;43m=\u001b[39;49m\u001b[43margs\u001b[49m\u001b[43m,\u001b[49m\u001b[43m \u001b[49m\u001b[43mjac\u001b[49m\u001b[38;5;241;43m=\u001b[39;49m\u001b[43mjac\u001b[49m\u001b[43m,\u001b[49m\u001b[43m \u001b[49m\u001b[38;5;241;43m*\u001b[39;49m\u001b[38;5;241;43m*\u001b[39;49m\u001b[43moptions\u001b[49m\u001b[43m)\u001b[49m\n\u001b[0;32m    247\u001b[0m \u001b[38;5;28;01melif\u001b[39;00m meth \u001b[38;5;241m==\u001b[39m \u001b[38;5;124m'\u001b[39m\u001b[38;5;124mlm\u001b[39m\u001b[38;5;124m'\u001b[39m:\n\u001b[0;32m    248\u001b[0m     sol \u001b[38;5;241m=\u001b[39m _root_leastsq(_wrapped_fun, x0, args\u001b[38;5;241m=\u001b[39margs, jac\u001b[38;5;241m=\u001b[39mjac, \u001b[38;5;241m*\u001b[39m\u001b[38;5;241m*\u001b[39moptions)\n",
      "File \u001b[1;32md:\\Python3.12.4\\Lib\\site-packages\\scipy\\optimize\\_minpack_py.py:238\u001b[0m, in \u001b[0;36m_root_hybr\u001b[1;34m(func, x0, args, jac, col_deriv, xtol, maxfev, band, eps, factor, diag, **unknown_options)\u001b[0m\n\u001b[0;32m    236\u001b[0m \u001b[38;5;28;01mif\u001b[39;00m \u001b[38;5;129;01mnot\u001b[39;00m \u001b[38;5;28misinstance\u001b[39m(args, \u001b[38;5;28mtuple\u001b[39m):\n\u001b[0;32m    237\u001b[0m     args \u001b[38;5;241m=\u001b[39m (args,)\n\u001b[1;32m--> 238\u001b[0m shape, dtype \u001b[38;5;241m=\u001b[39m \u001b[43m_check_func\u001b[49m\u001b[43m(\u001b[49m\u001b[38;5;124;43m'\u001b[39;49m\u001b[38;5;124;43mfsolve\u001b[39;49m\u001b[38;5;124;43m'\u001b[39;49m\u001b[43m,\u001b[49m\u001b[43m \u001b[49m\u001b[38;5;124;43m'\u001b[39;49m\u001b[38;5;124;43mfunc\u001b[39;49m\u001b[38;5;124;43m'\u001b[39;49m\u001b[43m,\u001b[49m\u001b[43m \u001b[49m\u001b[43mfunc\u001b[49m\u001b[43m,\u001b[49m\u001b[43m \u001b[49m\u001b[43mx0\u001b[49m\u001b[43m,\u001b[49m\u001b[43m \u001b[49m\u001b[43margs\u001b[49m\u001b[43m,\u001b[49m\u001b[43m \u001b[49m\u001b[43mn\u001b[49m\u001b[43m,\u001b[49m\u001b[43m \u001b[49m\u001b[43m(\u001b[49m\u001b[43mn\u001b[49m\u001b[43m,\u001b[49m\u001b[43m)\u001b[49m\u001b[43m)\u001b[49m\n\u001b[0;32m    239\u001b[0m \u001b[38;5;28;01mif\u001b[39;00m epsfcn \u001b[38;5;129;01mis\u001b[39;00m \u001b[38;5;28;01mNone\u001b[39;00m:\n\u001b[0;32m    240\u001b[0m     epsfcn \u001b[38;5;241m=\u001b[39m finfo(dtype)\u001b[38;5;241m.\u001b[39meps\n",
      "File \u001b[1;32md:\\Python3.12.4\\Lib\\site-packages\\scipy\\optimize\\_minpack_py.py:23\u001b[0m, in \u001b[0;36m_check_func\u001b[1;34m(checker, argname, thefunc, x0, args, numinputs, output_shape)\u001b[0m\n\u001b[0;32m     21\u001b[0m \u001b[38;5;28;01mdef\u001b[39;00m \u001b[38;5;21m_check_func\u001b[39m(checker, argname, thefunc, x0, args, numinputs,\n\u001b[0;32m     22\u001b[0m                 output_shape\u001b[38;5;241m=\u001b[39m\u001b[38;5;28;01mNone\u001b[39;00m):\n\u001b[1;32m---> 23\u001b[0m     res \u001b[38;5;241m=\u001b[39m atleast_1d(\u001b[43mthefunc\u001b[49m\u001b[43m(\u001b[49m\u001b[38;5;241;43m*\u001b[39;49m\u001b[43m(\u001b[49m\u001b[43m(\u001b[49m\u001b[43mx0\u001b[49m\u001b[43m[\u001b[49m\u001b[43m:\u001b[49m\u001b[43mnuminputs\u001b[49m\u001b[43m]\u001b[49m\u001b[43m,\u001b[49m\u001b[43m)\u001b[49m\u001b[43m \u001b[49m\u001b[38;5;241;43m+\u001b[39;49m\u001b[43m \u001b[49m\u001b[43margs\u001b[49m\u001b[43m)\u001b[49m\u001b[43m)\u001b[49m)\n\u001b[0;32m     24\u001b[0m     \u001b[38;5;28;01mif\u001b[39;00m (output_shape \u001b[38;5;129;01mis\u001b[39;00m \u001b[38;5;129;01mnot\u001b[39;00m \u001b[38;5;28;01mNone\u001b[39;00m) \u001b[38;5;129;01mand\u001b[39;00m (shape(res) \u001b[38;5;241m!=\u001b[39m output_shape):\n\u001b[0;32m     25\u001b[0m         \u001b[38;5;28;01mif\u001b[39;00m (output_shape[\u001b[38;5;241m0\u001b[39m] \u001b[38;5;241m!=\u001b[39m \u001b[38;5;241m1\u001b[39m):\n",
      "File \u001b[1;32md:\\Python3.12.4\\Lib\\site-packages\\scipy\\optimize\\_root.py:208\u001b[0m, in \u001b[0;36mroot.<locals>._wrapped_fun\u001b[1;34m(*fargs)\u001b[0m\n\u001b[0;32m    203\u001b[0m \u001b[38;5;250m\u001b[39m\u001b[38;5;124;03m\"\"\"\u001b[39;00m\n\u001b[0;32m    204\u001b[0m \u001b[38;5;124;03mWrapped `func` to track the number of times\u001b[39;00m\n\u001b[0;32m    205\u001b[0m \u001b[38;5;124;03mthe function has been called.\u001b[39;00m\n\u001b[0;32m    206\u001b[0m \u001b[38;5;124;03m\"\"\"\u001b[39;00m\n\u001b[0;32m    207\u001b[0m _wrapped_fun\u001b[38;5;241m.\u001b[39mnfev \u001b[38;5;241m+\u001b[39m\u001b[38;5;241m=\u001b[39m \u001b[38;5;241m1\u001b[39m\n\u001b[1;32m--> 208\u001b[0m \u001b[38;5;28;01mreturn\u001b[39;00m \u001b[43mfun\u001b[49m\u001b[43m(\u001b[49m\u001b[38;5;241;43m*\u001b[39;49m\u001b[43mfargs\u001b[49m\u001b[43m)\u001b[49m\n",
      "\u001b[1;31mTypeError\u001b[0m: eq_head() takes 1 positional argument but 3 were given"
     ]
    }
   ],
   "source": [
    "def r_length(theta):\n",
    "    return 880-b * theta\n",
    "\n",
    "def eq_head(x):\n",
    "    return np.sqrt(r_length(theta_rad)**2 + r_length(x)**2 - 2 * r_length(theta_rad) * r_length(x) * np.cos(theta_rad - x)) - L1\n",
    "\n",
    "def eq_others(x):\n",
    "    return np.sqrt(r_length(theta_rad)**2 + r_length(x)**2 - 2 * r_length(theta_rad) * r_length(x) * np.cos(theta_rad - x)) - L2\n",
    "\n",
    "solutions_head = []\n",
    "\n",
    "result_head = root(eq_head, 0, args=(theta_rad[0], L1)) \n",
    "\n"
   ]
  },
  {
   "cell_type": "code",
   "execution_count": 118,
   "metadata": {},
   "outputs": [
    {
     "name": "stdout",
     "output_type": "stream",
     "text": [
      "[0.32699728]\n"
     ]
    }
   ],
   "source": [
    "\n",
    "# # 定义 r_length 函数\n",
    "# def r_length(theta):\n",
    "#     # b = 55 / (2 * np.pi)\n",
    "#     return 880-b * theta\n",
    "\n",
    "\n",
    "# # 定义要解决的方程\n",
    "# def equation1(x):\n",
    "#     return np.sqrt(r_length(theta_rad)**2 + r_length(x)**2 - 2 * r_length(theta_rad) * r_length(x) * np.cos(theta_rad - x)) - L1\n",
    "\n",
    "\n",
    "# # 使用 fsolve 求解方程\n",
    "# x_solution = fsolve(equation1, theta_rad)  # 以 theta_rad 作为初始猜测值\n",
    "# # x_solution[0]\n",
    "# print(x_solution)\n"
   ]
  },
  {
   "cell_type": "code",
   "execution_count": 113,
   "metadata": {},
   "outputs": [],
   "source": [
    "# lenda=5*np.pi\n",
    "# theta_rad=32*np.pi-lenda\n",
    "\n",
    "# def r_length(theta):\n",
    "#     return b*theta\n",
    "\n",
    "\n",
    "# L1 = 341-27.5*2\n",
    "# L2 = 220-27.5*2\n",
    "# b = 55/(2*np.pi)\n",
    "\n",
    "# x = sp.Symbol('x')\n",
    "# equation = sqrt(r_length(theta_rad)**2+r_length(x)**2-2*r_length(theta_rad)*r_length(x)*sp.cos(theta_rad-x))-L1\n",
    "# # initial_guess = 6\n",
    "# # Solve the equation for x\n",
    "# solution = sp.solve(equation, x)\n",
    "\n",
    "# print(solution)\n"
   ]
  }
 ],
 "metadata": {
  "kernelspec": {
   "display_name": "Python 3",
   "language": "python",
   "name": "python3"
  },
  "language_info": {
   "codemirror_mode": {
    "name": "ipython",
    "version": 3
   },
   "file_extension": ".py",
   "mimetype": "text/x-python",
   "name": "python",
   "nbconvert_exporter": "python",
   "pygments_lexer": "ipython3",
   "version": "3.12.4"
  }
 },
 "nbformat": 4,
 "nbformat_minor": 2
}
